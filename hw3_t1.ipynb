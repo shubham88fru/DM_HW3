{
  "nbformat": 4,
  "nbformat_minor": 0,
  "metadata": {
    "colab": {
      "provenance": []
    },
    "kernelspec": {
      "name": "python3",
      "display_name": "Python 3"
    },
    "language_info": {
      "name": "python"
    }
  },
  "cells": [
    {
      "cell_type": "code",
      "execution_count": null,
      "metadata": {
        "id": "u7Kvej1SyDYd"
      },
      "outputs": [],
      "source": [
        "import numpy as np\n",
        "from sklearn.metrics.pairwise import pairwise_distances as compute_pairwise_distances\n",
        "from scipy.spatial.distance import cdist as compute_cdist\n",
        "from collections import Counter as FrequencyCounter"
      ]
    },
    {
      "cell_type": "code",
      "source": [
        "def compute_distance_matrix(samples, centers, distance_metric):\n",
        "    if distance_metric == 'euclidean':\n",
        "        distance_matrix = compute_pairwise_distances(samples, centers, metric='euclidean')\n",
        "    elif distance_metric == 'cosine':\n",
        "        distance_matrix = compute_pairwise_distances(samples, centers, metric='cosine')\n",
        "    else:\n",
        "        distance_matrix = compute_cdist(samples, centers, metric='jaccard')\n",
        "    return distance_matrix\n",
        "\n",
        "def kmeans_from_scratch(samples, num_clusters, distance_metric, max_iterations=200):\n",
        "    centers = samples[np.random.choice(samples.shape[0], num_clusters, replace=False)]\n",
        "    iteration = 0\n",
        "    previous_sse = 0\n",
        "    while iteration < max_iterations:\n",
        "        distance_matrix = compute_distance_matrix(samples, centers, distance_metric)\n",
        "        cluster_labels = np.argmin(distance_matrix, axis=1)\n",
        "        current_sse = np.sum(np.min(distance_matrix, axis=1))\n",
        "        if current_sse == previous_sse or (iteration != 0 and current_sse > previous_sse):\n",
        "            break\n",
        "        previous_centers = centers.copy()\n",
        "        for i in range(num_clusters):\n",
        "            centers[i] = np.mean(samples[cluster_labels == i], axis=0)\n",
        "        if np.array_equal(centers, previous_centers):\n",
        "            break\n",
        "        iteration += 1\n",
        "        previous_sse = current_sse\n",
        "    return cluster_labels, centers, current_sse, iteration\n"
      ],
      "metadata": {
        "id": "9qtC8QJRygC-"
      },
      "execution_count": null,
      "outputs": []
    },
    {
      "cell_type": "code",
      "source": [
        "samples = np.genfromtxt('data.csv', delimiter=',')\n",
        "actual_labels = np.genfromtxt('label.csv', delimiter=',')\n",
        "num_clusters = len(np.unique(actual_labels))"
      ],
      "metadata": {
        "id": "qZlAkwnDzFzg"
      },
      "execution_count": null,
      "outputs": []
    },
    {
      "cell_type": "code",
      "source": [
        "labels_euclidean, _, sse_euclidean, iterations_euclidean = kmeans_from_scratch(samples, num_clusters, 'euclidean')\n",
        "print('Euclidean SSE')\n",
        "print(sse_euclidean)\n",
        "\n",
        "labels_cosine, _, sse_cosine, iterations_cosine = kmeans_from_scratch(samples, num_clusters, 'cosine')\n",
        "print('Cosine SSE')\n",
        "print(sse_cosine)\n",
        "\n",
        "labels_jaccard, _, sse_jaccard, iterations_jaccard = kmeans_from_scratch(samples, num_clusters, 'jaccard')\n",
        "print('Jaccard SSE')\n",
        "print(sse_jaccard)"
      ],
      "metadata": {
        "id": "7JTpFCKMzGyr",
        "colab": {
          "base_uri": "https://localhost:8080/"
        },
        "outputId": "00010893-253a-4b06-d49e-8be9ce068984"
      },
      "execution_count": null,
      "outputs": [
        {
          "output_type": "stream",
          "name": "stdout",
          "text": [
            "Euclidean SSE\n",
            "15721572.927233623\n",
            "Cosine SSE\n",
            "2465.07133664333\n",
            "Jaccard SSE\n",
            "9999.84514398036\n"
          ]
        }
      ]
    },
    {
      "cell_type": "code",
      "source": [
        "def compute_accuracy(predicted_clusters, actual_labels):\n",
        "    cluster_map = {}\n",
        "    for i in range(num_clusters):\n",
        "        cluster_actuals = actual_labels[predicted_clusters == i]\n",
        "        if len(cluster_actuals) > 0:\n",
        "            label_frequency = FrequencyCounter(cluster_actuals)\n",
        "            common_label = label_frequency.most_common(1)[0][0]\n",
        "            cluster_map[i] = common_label\n",
        "        else:\n",
        "            cluster_map[i] = None\n",
        "    majority_predictions = np.array([cluster_map[label] for label in predicted_clusters])\n",
        "    valid_indices = majority_predictions != None\n",
        "    return np.sum(majority_predictions[valid_indices] == actual_labels[valid_indices]) / len(actual_labels[valid_indices])\n"
      ],
      "metadata": {
        "id": "DudPjmj0zQmz"
      },
      "execution_count": null,
      "outputs": []
    },
    {
      "cell_type": "code",
      "source": [
        "accuracy_euclidean = compute_accuracy(labels_euclidean, actual_labels)\n",
        "print('Euclidean Accuracy')\n",
        "print(accuracy_euclidean * 100)\n",
        "\n",
        "accuracy_cosine = compute_accuracy(labels_cosine, actual_labels)\n",
        "print('Cosine Accuracy')\n",
        "print(accuracy_cosine * 100)\n",
        "\n",
        "accuracy_jaccard = compute_accuracy(labels_jaccard, actual_labels)\n",
        "print('Jaccard Accuracy')\n",
        "print(accuracy_jaccard * 100)\n"
      ],
      "metadata": {
        "id": "QqbVnbeIzcPm",
        "colab": {
          "base_uri": "https://localhost:8080/"
        },
        "outputId": "51419cf5-d90a-46e7-9c0b-925e95e7a33f"
      },
      "execution_count": null,
      "outputs": [
        {
          "output_type": "stream",
          "name": "stdout",
          "text": [
            "Euclidean Accuracy\n",
            "60.07\n",
            "Cosine Accuracy\n",
            "61.82\n",
            "Jaccard Accuracy\n",
            "11.53\n"
          ]
        }
      ]
    },
    {
      "cell_type": "code",
      "source": [
        "def kmeans_centers_stable(samples, num_clusters, distance_metric, max_iterations=200):\n",
        "    centers = samples[np.random.choice(samples.shape[0], num_clusters, replace=False)]\n",
        "    iteration = 0\n",
        "    previous_sse = 0\n",
        "    while iteration < max_iterations:\n",
        "        distance_matrix = compute_distance_matrix(samples, centers, distance_metric)\n",
        "        cluster_labels = np.argmin(distance_matrix, axis=1)\n",
        "        current_sse = np.sum(np.min(distance_matrix, axis=1))\n",
        "        previous_centers = centers.copy()\n",
        "        for i in range(num_clusters):\n",
        "            centers[i] = np.mean(samples[cluster_labels == i], axis=0)\n",
        "        if np.array_equal(centers, previous_centers):\n",
        "            break\n",
        "        iteration += 1\n",
        "        previous_sse = current_sse\n",
        "    return cluster_labels, centers, current_sse, iteration\n"
      ],
      "metadata": {
        "id": "CESXGP9ezs61"
      },
      "execution_count": null,
      "outputs": []
    },
    {
      "cell_type": "code",
      "source": [
        "labels_euclidean, _, sse_euclidean, iterations_euclidean = kmeans_centers_stable(samples, num_clusters, 'euclidean')\n",
        "print(\"Euclidean SSE:\", sse_euclidean)\n",
        "print(\"Euclidean Iterations:\", iterations_euclidean)\n",
        "\n",
        "labels_cosine, _, sse_cosine, iterations_cosine = kmeans_centers_stable(samples, num_clusters, 'cosine')\n",
        "print(\"Cosine SSE:\", sse_cosine)\n",
        "print(\"Cosine Iterations:\", iterations_cosine)\n",
        "\n",
        "labels_jaccard, _, sse_jaccard, iterations_jaccard = kmeans_centers_stable(samples, num_clusters, 'jaccard')\n",
        "print(\"Jaccard SSE:\", sse_jaccard)\n",
        "print(\"Jaccard Iterations:\", iterations_jaccard)\n"
      ],
      "metadata": {
        "id": "btlTi8tJz2hX",
        "colab": {
          "base_uri": "https://localhost:8080/"
        },
        "outputId": "b7dfdf16-ae93-48b3-8ea6-50fb16ca8285"
      },
      "execution_count": null,
      "outputs": [
        {
          "output_type": "stream",
          "name": "stdout",
          "text": [
            "Euclidean SSE: 15721974.152216878\n",
            "Euclidean Iterations: 59\n",
            "Cosine SSE: 2456.979228647383\n",
            "Cosine Iterations: 70\n"
          ]
        },
        {
          "output_type": "stream",
          "name": "stderr",
          "text": [
            "/usr/local/lib/python3.11/dist-packages/numpy/_core/fromnumeric.py:3596: RuntimeWarning: Mean of empty slice.\n",
            "  return _methods._mean(a, axis=axis, dtype=dtype,\n",
            "/usr/local/lib/python3.11/dist-packages/numpy/_core/_methods.py:130: RuntimeWarning: invalid value encountered in divide\n",
            "  ret = um.true_divide(\n"
          ]
        },
        {
          "output_type": "stream",
          "name": "stdout",
          "text": [
            "Jaccard SSE: 10000.0\n",
            "Jaccard Iterations: 200\n"
          ]
        }
      ]
    },
    {
      "cell_type": "code",
      "source": [
        "def kmeans_stop_on_sse_increase(samples, num_clusters, distance_metric, max_iterations=200):\n",
        "    centers = samples[np.random.choice(samples.shape[0], num_clusters, replace=False)]\n",
        "    iteration = 0\n",
        "    previous_sse = 0\n",
        "    while iteration < max_iterations:\n",
        "        distance_matrix = compute_distance_matrix(samples, centers, distance_metric)\n",
        "        cluster_labels = np.argmin(distance_matrix, axis=1)\n",
        "        current_sse = np.sum(np.min(distance_matrix, axis=1))\n",
        "        if current_sse == previous_sse or (iteration != 0 and current_sse > previous_sse):\n",
        "            break\n",
        "        previous_centers = centers.copy()\n",
        "        for i in range(num_clusters):\n",
        "            centers[i] = np.mean(samples[cluster_labels == i], axis=0)\n",
        "        iteration += 1\n",
        "        previous_sse = current_sse\n",
        "    return cluster_labels, centers, current_sse, iteration\n"
      ],
      "metadata": {
        "id": "MAp2bYc20Aa8"
      },
      "execution_count": null,
      "outputs": []
    },
    {
      "cell_type": "code",
      "source": [
        "labels_euclidean, _, sse_euclidean, iterations_euclidean = kmeans_stop_on_sse_increase(samples, num_clusters, 'euclidean')\n",
        "print(\"Euclidean SSE:\", sse_euclidean)\n",
        "print(\"Euclidean Iterations:\", iterations_euclidean)\n",
        "\n",
        "labels_cosine, _, sse_cosine, iterations_cosine = kmeans_stop_on_sse_increase(samples, num_clusters, 'cosine')\n",
        "print(\"Cosine SSE:\", sse_cosine)\n",
        "print(\"Cosine Iterations:\", iterations_cosine)\n",
        "\n",
        "labels_jaccard, _, sse_jaccard, iterations_jaccard = kmeans_stop_on_sse_increase(samples, num_clusters, 'jaccard')\n",
        "print(\"Jaccard SSE:\", sse_jaccard)\n",
        "print(\"Jaccard Iterations:\", iterations_jaccard)\n"
      ],
      "metadata": {
        "id": "ZJKksT8H0I-c",
        "colab": {
          "base_uri": "https://localhost:8080/"
        },
        "outputId": "26c81bab-415f-4cfd-eb5c-5c0415e78f94"
      },
      "execution_count": null,
      "outputs": [
        {
          "output_type": "stream",
          "name": "stdout",
          "text": [
            "Euclidean SSE: 15650093.638524346\n",
            "Euclidean Iterations: 23\n",
            "Cosine SSE: 2462.9090784993705\n",
            "Cosine Iterations: 38\n",
            "Jaccard SSE: 9999.918944640029\n",
            "Jaccard Iterations: 1\n"
          ]
        }
      ]
    },
    {
      "cell_type": "code",
      "source": [
        "def kmeans_run_full_iterations(samples, num_clusters, distance_metric, max_iterations=200):\n",
        "    centers = samples[np.random.choice(samples.shape[0], num_clusters, replace=False)]\n",
        "    iteration = 0\n",
        "    previous_sse = 0\n",
        "    while iteration < max_iterations:\n",
        "        distance_matrix = compute_distance_matrix(samples, centers, distance_metric)\n",
        "        cluster_labels = np.argmin(distance_matrix, axis=1)\n",
        "        current_sse = np.sum(np.min(distance_matrix, axis=1))\n",
        "        centers_prev = centers.copy()\n",
        "        for i in range(num_clusters):\n",
        "            centers[i] = np.mean(samples[cluster_labels == i], axis=0)\n",
        "        iteration += 1\n",
        "        previous_sse = current_sse\n",
        "    return cluster_labels, centers, current_sse, iteration\n"
      ],
      "metadata": {
        "id": "BVtf50ZA0KNl"
      },
      "execution_count": null,
      "outputs": []
    },
    {
      "cell_type": "code",
      "source": [
        "labels_euclidean, _, sse_euclidean, iterations_euclidean = kmeans_run_full_iterations(samples, num_clusters, 'euclidean')\n",
        "print(\"Euclidean SSE:\", sse_euclidean)\n",
        "print(\"Euclidean Iterations:\", iterations_euclidean)\n",
        "\n",
        "labels_cosine, _, sse_cosine, iterations_cosine = kmeans_run_full_iterations(samples, num_clusters, 'cosine')\n",
        "print(\"Cosine SSE:\", sse_cosine)\n",
        "print(\"Cosine Iterations:\", iterations_cosine)\n",
        "\n",
        "labels_jaccard, _, sse_jaccard, iterations_jaccard = kmeans_run_full_iterations(samples, num_clusters, 'jaccard')\n",
        "print(\"Jaccard SSE:\", sse_jaccard)\n",
        "print(\"Jaccard Iterations:\", iterations_jaccard)\n"
      ],
      "metadata": {
        "id": "o1LlS9Tf0g0w",
        "colab": {
          "base_uri": "https://localhost:8080/"
        },
        "outputId": "4171995d-37bc-413e-e2f1-972723fb254c"
      },
      "execution_count": null,
      "outputs": [
        {
          "output_type": "stream",
          "name": "stdout",
          "text": [
            "Euclidean SSE: 15638058.903263554\n",
            "Euclidean Iterations: 200\n",
            "Cosine SSE: 2464.41576026472\n",
            "Cosine Iterations: 200\n"
          ]
        },
        {
          "output_type": "stream",
          "name": "stderr",
          "text": [
            "/usr/local/lib/python3.11/dist-packages/numpy/_core/fromnumeric.py:3596: RuntimeWarning: Mean of empty slice.\n",
            "  return _methods._mean(a, axis=axis, dtype=dtype,\n",
            "/usr/local/lib/python3.11/dist-packages/numpy/_core/_methods.py:130: RuntimeWarning: invalid value encountered in divide\n",
            "  ret = um.true_divide(\n"
          ]
        },
        {
          "output_type": "stream",
          "name": "stdout",
          "text": [
            "Jaccard SSE: 10000.0\n",
            "Jaccard Iterations: 200\n"
          ]
        }
      ]
    }
  ]
}